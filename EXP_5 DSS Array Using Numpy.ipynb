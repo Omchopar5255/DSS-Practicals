{
 "cells": [
  {
   "cell_type": "markdown",
   "id": "1454bcfb-953d-468c-9053-b94c6093bf60",
   "metadata": {},
   "source": [
    "Array Using Numpy"
   ]
  },
  {
   "cell_type": "code",
   "execution_count": null,
   "id": "ba868c54-1b35-4bba-93ca-90eb101f0043",
   "metadata": {},
   "outputs": [],
   "source": [
    "# Experiment No. 5"
   ]
  },
  {
   "cell_type": "code",
   "execution_count": 1,
   "id": "d2182905-b764-44cd-a1f7-a634079688b2",
   "metadata": {},
   "outputs": [],
   "source": [
    "# Name : Om S. Chopar\n",
    "# Roll : 69\n",
    "# Sec : A"
   ]
  },
  {
   "cell_type": "code",
   "execution_count": 2,
   "id": "1b79c873-3e40-42de-bdc9-8f81bca322e2",
   "metadata": {},
   "outputs": [],
   "source": [
    "# Aim : Creation of Array Using Numpy"
   ]
  },
  {
   "cell_type": "code",
   "execution_count": 3,
   "id": "05e136e9-31a8-4259-bc35-15152af79f37",
   "metadata": {},
   "outputs": [],
   "source": [
    "import random"
   ]
  },
  {
   "cell_type": "code",
   "execution_count": 4,
   "id": "788bafbe-6385-4f2b-87a2-92e2b06e9034",
   "metadata": {},
   "outputs": [],
   "source": [
    "rm =[random.randint(1,50) for _ in range(15)]"
   ]
  },
  {
   "cell_type": "code",
   "execution_count": 5,
   "id": "29a3d9b7-9bc7-4b99-9d70-6d0d11d6860f",
   "metadata": {},
   "outputs": [
    {
     "data": {
      "text/plain": [
       "[22, 6, 43, 22, 14, 28, 33, 1, 27, 35, 13, 22, 32, 46, 36]"
      ]
     },
     "execution_count": 5,
     "metadata": {},
     "output_type": "execute_result"
    }
   ],
   "source": [
    "rm"
   ]
  },
  {
   "cell_type": "code",
   "execution_count": 6,
   "id": "b3c1fedd-abcb-4103-8ba8-a50385febc73",
   "metadata": {},
   "outputs": [
    {
     "name": "stdout",
     "output_type": "stream",
     "text": [
      "[1 2 3 4 5]\n",
      "<class 'numpy.ndarray'>\n"
     ]
    }
   ],
   "source": [
    "import numpy as np\n",
    "\n",
    "arr = np.array([1, 2, 3, 4, 5])\n",
    "\n",
    "print(arr)\n",
    "\n",
    "print(type(arr))"
   ]
  },
  {
   "cell_type": "code",
   "execution_count": 7,
   "id": "63d58138-98ad-4d48-9704-b2eb533b7d85",
   "metadata": {},
   "outputs": [],
   "source": [
    "# 1-D Array"
   ]
  },
  {
   "cell_type": "code",
   "execution_count": 8,
   "id": "b902b0c7-8989-4d61-b669-8b7fc6cf0a3b",
   "metadata": {},
   "outputs": [],
   "source": [
    "arr = np.array([1, 2, 3, 4, 5])"
   ]
  },
  {
   "cell_type": "code",
   "execution_count": 9,
   "id": "6a9009c8-8ac2-465f-8fe5-c5eb4298c36c",
   "metadata": {},
   "outputs": [
    {
     "data": {
      "text/plain": [
       "array([1, 2, 3, 4, 5])"
      ]
     },
     "execution_count": 9,
     "metadata": {},
     "output_type": "execute_result"
    }
   ],
   "source": [
    "arr"
   ]
  },
  {
   "cell_type": "code",
   "execution_count": 10,
   "id": "9f2ab675-8c50-4641-8b40-6948fead2e94",
   "metadata": {},
   "outputs": [],
   "source": [
    "# 2-D Array"
   ]
  },
  {
   "cell_type": "code",
   "execution_count": 11,
   "id": "bec5da9f-dfc5-4fdd-b470-7d7a1a320613",
   "metadata": {},
   "outputs": [],
   "source": [
    "arr = np.array([[1, 2, 3], [4, 5, 6]])"
   ]
  },
  {
   "cell_type": "code",
   "execution_count": 12,
   "id": "36a93c62-ee97-4408-a4ac-91814e3f2ba1",
   "metadata": {},
   "outputs": [
    {
     "data": {
      "text/plain": [
       "array([[1, 2, 3],\n",
       "       [4, 5, 6]])"
      ]
     },
     "execution_count": 12,
     "metadata": {},
     "output_type": "execute_result"
    }
   ],
   "source": [
    "arr"
   ]
  },
  {
   "cell_type": "code",
   "execution_count": 13,
   "id": "77a7bbbf-2214-41fe-8648-60d7765103ee",
   "metadata": {},
   "outputs": [
    {
     "name": "stdout",
     "output_type": "stream",
     "text": [
      "0\n",
      "1\n",
      "2\n",
      "3\n"
     ]
    }
   ],
   "source": [
    "a = np.array(42)\n",
    "b = np.array([1, 2, 3, 4, 5])\n",
    "c = np.array([[1, 2, 3], [4, 5, 6]])\n",
    "d = np.array([[[1, 2, 3], [4, 5, 6]], [[1, 2, 3], [4, 5, 6]]])\n",
    "\n",
    "print(a.ndim)\n",
    "print(b.ndim)\n",
    "print(c.ndim)\n",
    "print(d.ndim)"
   ]
  },
  {
   "cell_type": "code",
   "execution_count": null,
   "id": "160d861c-6e22-4155-b1bb-97a2baf03706",
   "metadata": {},
   "outputs": [],
   "source": []
  }
 ],
 "metadata": {
  "kernelspec": {
   "display_name": "Python 3 (ipykernel)",
   "language": "python",
   "name": "python3"
  },
  "language_info": {
   "codemirror_mode": {
    "name": "ipython",
    "version": 3
   },
   "file_extension": ".py",
   "mimetype": "text/x-python",
   "name": "python",
   "nbconvert_exporter": "python",
   "pygments_lexer": "ipython3",
   "version": "3.12.4"
  }
 },
 "nbformat": 4,
 "nbformat_minor": 5
}
