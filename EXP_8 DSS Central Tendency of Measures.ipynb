{
 "cells": [
  {
   "cell_type": "markdown",
   "id": "5ad467af-07a2-43a3-a1e2-c7dd864e3d2e",
   "metadata": {},
   "source": [
    "Central Tendency of Measures"
   ]
  },
  {
   "cell_type": "code",
   "execution_count": 1,
   "id": "5db60a61-753c-43a5-9dea-d67027f5c3a9",
   "metadata": {},
   "outputs": [],
   "source": [
    "# Expriment no: 8"
   ]
  },
  {
   "cell_type": "code",
   "execution_count": 2,
   "id": "5938d550-dd7e-49a9-8ac6-4df947a3db8f",
   "metadata": {},
   "outputs": [],
   "source": [
    "# Name :om s.chopar\n",
    "# Roll : 69\n",
    "# sec : A"
   ]
  },
  {
   "cell_type": "code",
   "execution_count": 3,
   "id": "cb763f90-895c-454d-b44b-6904b5d81da4",
   "metadata": {},
   "outputs": [],
   "source": [
    "# Aim : To perform Certral Tendency of Measures"
   ]
  },
  {
   "cell_type": "code",
   "execution_count": 4,
   "id": "0dc0dd24-3b16-4ebe-83d1-e634eac0ac8b",
   "metadata": {},
   "outputs": [],
   "source": [
    "age =[21,22,22,23,25,19,20,22,21,22,18,24,19,23,24,23,22,22,22]"
   ]
  },
  {
   "cell_type": "code",
   "execution_count": 5,
   "id": "120bfc3a-c518-4e5b-a36f-f379be49cbeb",
   "metadata": {},
   "outputs": [
    {
     "data": {
      "text/plain": [
       "[21, 22, 22, 23, 25, 19, 20, 22, 21, 22, 18, 24, 19, 23, 24, 23, 22, 22, 22]"
      ]
     },
     "execution_count": 5,
     "metadata": {},
     "output_type": "execute_result"
    }
   ],
   "source": [
    "age"
   ]
  },
  {
   "cell_type": "code",
   "execution_count": 6,
   "id": "cc044346-3698-43d5-9846-66c841e05989",
   "metadata": {},
   "outputs": [],
   "source": [
    "import statistics as st\n"
   ]
  },
  {
   "cell_type": "code",
   "execution_count": 7,
   "id": "9a42868c-ec75-4fe0-9403-274050927014",
   "metadata": {},
   "outputs": [],
   "source": [
    "Mean = st.mean(age)"
   ]
  },
  {
   "cell_type": "code",
   "execution_count": 8,
   "id": "042c222e-9f18-4004-a91b-d7e133238dcf",
   "metadata": {},
   "outputs": [
    {
     "data": {
      "text/plain": [
       "21.789473684210527"
      ]
     },
     "execution_count": 8,
     "metadata": {},
     "output_type": "execute_result"
    }
   ],
   "source": [
    "Mean"
   ]
  },
  {
   "cell_type": "code",
   "execution_count": 9,
   "id": "a70210e7-3e97-499d-95f9-f65a9766d68a",
   "metadata": {},
   "outputs": [],
   "source": [
    "Median = st.median(age)"
   ]
  },
  {
   "cell_type": "code",
   "execution_count": 10,
   "id": "fc62d44b-3352-46f3-99d2-c0db805278c5",
   "metadata": {},
   "outputs": [
    {
     "data": {
      "text/plain": [
       "22"
      ]
     },
     "execution_count": 10,
     "metadata": {},
     "output_type": "execute_result"
    }
   ],
   "source": [
    "Median"
   ]
  },
  {
   "cell_type": "code",
   "execution_count": 11,
   "id": "40990844-1eb3-4306-87f7-93c5274f754e",
   "metadata": {},
   "outputs": [],
   "source": [
    "Mode = st.mode(age)"
   ]
  },
  {
   "cell_type": "code",
   "execution_count": 12,
   "id": "8172ba86-9c61-45c7-ab5c-f7921c49ab0b",
   "metadata": {},
   "outputs": [
    {
     "data": {
      "text/plain": [
       "22"
      ]
     },
     "execution_count": 12,
     "metadata": {},
     "output_type": "execute_result"
    }
   ],
   "source": [
    "Mode"
   ]
  },
  {
   "cell_type": "code",
   "execution_count": null,
   "id": "880a2f28-21b4-4ac4-940b-74d4c34f14c6",
   "metadata": {},
   "outputs": [],
   "source": []
  },
  {
   "cell_type": "code",
   "execution_count": null,
   "id": "cfcf53e2-b547-4842-8503-9ae0ffd085eb",
   "metadata": {},
   "outputs": [],
   "source": []
  }
 ],
 "metadata": {
  "kernelspec": {
   "display_name": "Python 3 (ipykernel)",
   "language": "python",
   "name": "python3"
  },
  "language_info": {
   "codemirror_mode": {
    "name": "ipython",
    "version": 3
   },
   "file_extension": ".py",
   "mimetype": "text/x-python",
   "name": "python",
   "nbconvert_exporter": "python",
   "pygments_lexer": "ipython3",
   "version": "3.12.4"
  }
 },
 "nbformat": 4,
 "nbformat_minor": 5
}
